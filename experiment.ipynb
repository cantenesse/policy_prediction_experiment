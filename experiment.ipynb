{
 "cells": [
  {
   "cell_type": "markdown",
   "metadata": {},
   "source": [
    "# Few-Shot Learning Experiment: ACORD Form to Policy JSON\n",
    "\n",
    "This notebook demonstrates using Claude to predict insurance policy attributes from ACORD forms using few-shot learning.\n",
    "\n",
    "## Experiment Overview\n",
    "- **Training Data**: 5 ACORD forms with corresponding policy JSON representations\n",
    "- **Test Data**: 1 ACORD form (the 6th one)\n",
    "- **Method**: Few-shot prompting with Claude Sonnet 4.5\n",
    "- **Evaluation**: Compare generated JSON against ground truth policy"
   ]
  },
  {
   "cell_type": "markdown",
   "metadata": {},
   "source": [
    "## Setup\n",
    "\n",
    "First, let's import the required libraries and set up our environment."
   ]
  },
  {
   "cell_type": "code",
   "execution_count": 1,
   "metadata": {},
   "outputs": [
    {
     "name": "stdout",
     "output_type": "stream",
     "text": [
      "✓ Imports successful\n"
     ]
    }
   ],
   "source": [
    "import json\n",
    "import os\n",
    "from pathlib import Path\n",
    "from anthropic import Anthropic\n",
    "from dotenv import load_dotenv\n",
    "import pandas as pd\n",
    "import matplotlib.pyplot as plt\n",
    "import seaborn as sns\n",
    "\n",
    "# Set up plotting style\n",
    "sns.set_style('whitegrid')\n",
    "plt.rcParams['figure.figsize'] = (12, 6)\n",
    "\n",
    "# Load environment variables from .env file if it exists\n",
    "load_dotenv()\n",
    "\n",
    "print(\"✓ Imports successful\")"
   ]
  },
  {
   "cell_type": "markdown",
   "metadata": {},
   "source": [
    "## Check API Key\n",
    "\n",
    "Make sure your Anthropic API key is set in the environment."
   ]
  },
  {
   "cell_type": "code",
   "execution_count": 2,
   "metadata": {},
   "outputs": [
    {
     "name": "stdout",
     "output_type": "stream",
     "text": [
      "✓ API key found\n"
     ]
    }
   ],
   "source": [
    "api_key = os.environ.get('ANTHROPIC_API_KEY')\n",
    "if not api_key:\n",
    "    raise ValueError(\n",
    "        \"ANTHROPIC_API_KEY not found in environment.\\n\"\n",
    "        \"Please set it by:\\n\"\n",
    "        \"1. Creating a .env file with: ANTHROPIC_API_KEY=your-key-here\\n\"\n",
    "        \"2. Or setting it in your shell: export ANTHROPIC_API_KEY='your-key-here'\"\n",
    "    )\n",
    "print(\"✓ API key found\")"
   ]
  },
  {
   "cell_type": "markdown",
   "metadata": {},
   "source": [
    "## Step 1: Load Training Examples\n",
    "\n",
    "Load the first 5 ACORD forms and their corresponding policy JSONs as training examples."
   ]
  },
  {
   "cell_type": "code",
   "execution_count": null,
   "metadata": {},
   "outputs": [],
   "source": "def load_training_examples():\n    \"\"\"Load the first 5 ACORD forms and their corresponding policies as training examples.\"\"\"\n    training_data = []\n    base_path = Path('data')\n    \n    for i in range(1, 6):\n        acord_path = base_path / f'acord_form_{i}.txt'\n        policy_path = base_path / f'policy_{i}.json'\n        \n        with open(acord_path, 'r') as f:\n            acord_form = f.read()\n        with open(policy_path, 'r') as f:\n            policy_json = f.read()\n            \n        training_data.append({\n            'acord_form': acord_form,\n            'policy_json': policy_json\n        })\n    \n    return training_data\n\ntraining_data = load_training_examples()\nprint(f\"✓ Loaded {len(training_data)} training examples\")\n\n# Show a preview of the first training example\nprint(\"\\n\" + \"=\"*80)\nprint(\"PREVIEW: First Training Example\")\nprint(\"=\"*80)\nprint(\"\\nACORD Form (first 500 chars):\")\nprint(training_data[0]['acord_form'][:500])\nprint(\"\\n...\\n\")\nprint(\"Policy JSON (first 500 chars):\")\nprint(training_data[0]['policy_json'][:500])\nprint(\"\\n...\")"
  },
  {
   "cell_type": "markdown",
   "metadata": {},
   "source": [
    "## Step 2: Load Test Case\n",
    "\n",
    "Load the 6th ACORD form (test case) and its ground truth policy."
   ]
  },
  {
   "cell_type": "code",
   "execution_count": null,
   "metadata": {},
   "outputs": [],
   "source": "def load_test_case():\n    \"\"\"Load the 6th ACORD form (test case) and ground truth policy.\"\"\"\n    base_path = Path('data')\n    \n    with open(base_path / 'acord_form_6.txt', 'r') as f:\n        test_acord = f.read()\n    with open(base_path / 'policy_6.json', 'r') as f:\n        ground_truth = json.load(f)\n    \n    return test_acord, ground_truth\n\ntest_acord, ground_truth = load_test_case()\nprint(\"✓ Test case loaded\")\nprint(f\"\\nTest ACORD form length: {len(test_acord)} characters\")\nprint(f\"Ground truth policy has {len(ground_truth)} top-level fields\")"
  },
  {
   "cell_type": "markdown",
   "metadata": {},
   "source": [
    "## Step 3: Create Few-Shot Prompt\n",
    "\n",
    "Construct a prompt that includes all training examples followed by the test case."
   ]
  },
  {
   "cell_type": "code",
   "execution_count": 5,
   "metadata": {},
   "outputs": [
    {
     "name": "stdout",
     "output_type": "stream",
     "text": [
      "✓ Prompt created\n",
      "\n",
      "Prompt length: 35,698 characters\n",
      "Estimated tokens: ~8,924\n"
     ]
    }
   ],
   "source": [
    "def create_prompt(training_data, test_acord):\n",
    "    \"\"\"Create the few-shot prompt for the LLM.\"\"\"\n",
    "    prompt = \"\"\"You are an insurance underwriting expert. Your task is to generate a JSON policy representation based on an ACORD insurance application form.\n",
    "\n",
    "I will show you 5 examples of ACORD forms and their corresponding policy JSON representations. Then, you will generate a policy JSON for a new ACORD form.\n",
    "\n",
    "\"\"\"\n",
    "    \n",
    "    # Add training examples\n",
    "    for i, example in enumerate(training_data, 1):\n",
    "        prompt += f\"=== EXAMPLE {i} ===\\n\\n\"\n",
    "        prompt += f\"ACORD FORM:\\n{example['acord_form']}\\n\\n\"\n",
    "        prompt += f\"CORRESPONDING POLICY JSON:\\n{example['policy_json']}\\n\\n\"\n",
    "        prompt += \"=\" * 80 + \"\\n\\n\"\n",
    "    \n",
    "    # Add test case\n",
    "    prompt += \"\"\"Now, based on the patterns you've observed in the examples above, generate a policy JSON for this new ACORD form:\n",
    "\n",
    "TEST ACORD FORM:\n",
    "\"\"\"\n",
    "    prompt += test_acord\n",
    "    prompt += \"\\n\\nGenerate the policy JSON following the same structure and logic as the examples. Return ONLY the JSON, no additional text.\"\n",
    "    \n",
    "    return prompt\n",
    "\n",
    "prompt = create_prompt(training_data, test_acord)\n",
    "print(f\"✓ Prompt created\")\n",
    "print(f\"\\nPrompt length: {len(prompt):,} characters\")\n",
    "print(f\"Estimated tokens: ~{len(prompt) // 4:,}\")"
   ]
  },
  {
   "cell_type": "markdown",
   "metadata": {},
   "source": [
    "## Step 4: Generate Policy with Claude\n",
    "\n",
    "Call the Claude API to generate the policy JSON for the test ACORD form."
   ]
  },
  {
   "cell_type": "code",
   "execution_count": 7,
   "metadata": {},
   "outputs": [
    {
     "name": "stdout",
     "output_type": "stream",
     "text": [
      "Calling Claude API...\n",
      "✓ Policy JSON generated successfully\n",
      "✓ Generated policy saved to: generated_policy_6.json\n",
      "\n",
      "Generated Policy Preview:\n",
      "{\n",
      "  \"policy_number\": \"CMP-2024-778945\",\n",
      "  \"effective_date\": \"04/15/2024\",\n",
      "  \"expiration_date\": \"04/15/2025\",\n",
      "  \"insured\": {\n",
      "    \"business_name\": \"FitLife Wellness Center LLC\",\n",
      "    \"dba\": \"FitLife\",\n",
      "    \"address\": \"3300 Ocean Boulevard, Miami, FL 33139\",\n",
      "    \"federal_id\": \"65-2345678\",\n",
      "    \"industry_code\": \"713940\",\n",
      "    \"industry_description\": \"Fitness and Recreational Sports Centers\"\n",
      "  },\n",
      "  \"policy_type\": \"Business Owners Policy (BOP) with Professional Liability\",\n",
      "  \"premium\": {\n",
      "    \"total_annua\n",
      "...\n"
     ]
    }
   ],
   "source": [
    "def generate_policy_with_claude(prompt, api_key):\n",
    "    \"\"\"Use Claude to generate the policy JSON.\"\"\"\n",
    "    client = Anthropic(api_key=api_key)\n",
    "    \n",
    "    print(\"Calling Claude API...\")\n",
    "    message = client.messages.create(\n",
    "        model=\"claude-sonnet-4-5-20250929\",\n",
    "        max_tokens=4096,\n",
    "        messages=[\n",
    "            {\"role\": \"user\", \"content\": prompt}\n",
    "        ]\n",
    "    )\n",
    "    \n",
    "    return message.content[0].text\n",
    "\n",
    "try:\n",
    "    generated_text = generate_policy_with_claude(prompt, api_key)\n",
    "    \n",
    "    # Extract JSON from response (in case there's extra text)\n",
    "    start_idx = generated_text.find('{')\n",
    "    end_idx = generated_text.rfind('}') + 1\n",
    "    json_text = generated_text[start_idx:end_idx]\n",
    "    \n",
    "    generated_policy = json.loads(json_text)\n",
    "    print(\"✓ Policy JSON generated successfully\")\n",
    "    \n",
    "    # Save generated policy\n",
    "    with open('generated_policy_6.json', 'w') as f:\n",
    "        json.dump(generated_policy, f, indent=2)\n",
    "    print(\"✓ Generated policy saved to: generated_policy_6.json\")\n",
    "    \n",
    "    # Display preview\n",
    "    print(\"\\nGenerated Policy Preview:\")\n",
    "    print(json.dumps(generated_policy, indent=2)[:500] + \"\\n...\")\n",
    "    \n",
    "except Exception as e:\n",
    "    print(f\"✗ Error generating policy: {e}\")\n",
    "    raise"
   ]
  },
  {
   "cell_type": "markdown",
   "metadata": {},
   "source": [
    "## Step 5: Compare Generated Policy with Ground Truth\n",
    "\n",
    "Analyze the differences between the generated policy and the ground truth."
   ]
  },
  {
   "cell_type": "code",
   "execution_count": 8,
   "metadata": {},
   "outputs": [
    {
     "name": "stdout",
     "output_type": "stream",
     "text": [
      "✓ Comparison complete\n",
      "✓ Detailed comparison saved to: comparison_results.json\n"
     ]
    }
   ],
   "source": [
    "def flatten_dict(d, parent_key='', sep='.'):\n",
    "    \"\"\"Flatten nested dictionary for easier comparison.\"\"\"\n",
    "    items = []\n",
    "    for k, v in d.items():\n",
    "        new_key = f\"{parent_key}{sep}{k}\" if parent_key else k\n",
    "        if isinstance(v, dict):\n",
    "            items.extend(flatten_dict(v, new_key, sep=sep).items())\n",
    "        elif isinstance(v, list):\n",
    "            items.append((new_key, str(v)))\n",
    "        else:\n",
    "            items.append((new_key, v))\n",
    "    return dict(items)\n",
    "\n",
    "def compare_policies(generated, ground_truth):\n",
    "    \"\"\"Compare generated policy with ground truth and calculate metrics.\"\"\"\n",
    "    gen_flat = flatten_dict(generated)\n",
    "    truth_flat = flatten_dict(ground_truth)\n",
    "    \n",
    "    # Find common keys\n",
    "    common_keys = set(gen_flat.keys()) & set(truth_flat.keys())\n",
    "    gen_only_keys = set(gen_flat.keys()) - set(truth_flat.keys())\n",
    "    truth_only_keys = set(truth_flat.keys()) - set(gen_flat.keys())\n",
    "    \n",
    "    # Calculate matches\n",
    "    exact_matches = 0\n",
    "    close_matches = 0\n",
    "    mismatches = 0\n",
    "    \n",
    "    comparison_details = {\n",
    "        'exact_matches': [],\n",
    "        'close_matches': [],\n",
    "        'mismatches': [],\n",
    "        'missing_in_generated': [],\n",
    "        'extra_in_generated': []\n",
    "    }\n",
    "    \n",
    "    for key in common_keys:\n",
    "        gen_val = gen_flat[key]\n",
    "        truth_val = truth_flat[key]\n",
    "        \n",
    "        if gen_val == truth_val:\n",
    "            exact_matches += 1\n",
    "            comparison_details['exact_matches'].append({\n",
    "                'field': key,\n",
    "                'value': truth_val\n",
    "            })\n",
    "        elif isinstance(gen_val, (int, float)) and isinstance(truth_val, (int, float)):\n",
    "            # Check if numeric values are close (within 10%)\n",
    "            if truth_val != 0 and abs(gen_val - truth_val) / abs(truth_val) <= 0.10:\n",
    "                close_matches += 1\n",
    "                comparison_details['close_matches'].append({\n",
    "                    'field': key,\n",
    "                    'generated': gen_val,\n",
    "                    'ground_truth': truth_val\n",
    "                })\n",
    "            else:\n",
    "                mismatches += 1\n",
    "                comparison_details['mismatches'].append({\n",
    "                    'field': key,\n",
    "                    'generated': gen_val,\n",
    "                    'ground_truth': truth_val\n",
    "                })\n",
    "        else:\n",
    "            mismatches += 1\n",
    "            comparison_details['mismatches'].append({\n",
    "                'field': key,\n",
    "                'generated': gen_val,\n",
    "                'ground_truth': truth_val\n",
    "            })\n",
    "    \n",
    "    # Track missing and extra fields\n",
    "    for key in truth_only_keys:\n",
    "        comparison_details['missing_in_generated'].append({\n",
    "            'field': key,\n",
    "            'ground_truth': truth_flat[key]\n",
    "        })\n",
    "    \n",
    "    for key in gen_only_keys:\n",
    "        comparison_details['extra_in_generated'].append({\n",
    "            'field': key,\n",
    "            'generated': gen_flat[key]\n",
    "        })\n",
    "    \n",
    "    # Calculate metrics\n",
    "    total_fields = len(truth_flat)\n",
    "    accuracy = (exact_matches + close_matches) / total_fields if total_fields > 0 else 0\n",
    "    \n",
    "    metrics = {\n",
    "        'total_fields_in_ground_truth': total_fields,\n",
    "        'total_fields_in_generated': len(gen_flat),\n",
    "        'exact_matches': exact_matches,\n",
    "        'close_matches': close_matches,\n",
    "        'mismatches': mismatches,\n",
    "        'missing_fields': len(truth_only_keys),\n",
    "        'extra_fields': len(gen_only_keys),\n",
    "        'accuracy': accuracy,\n",
    "        'exact_match_rate': exact_matches / total_fields if total_fields > 0 else 0\n",
    "    }\n",
    "    \n",
    "    return metrics, comparison_details\n",
    "\n",
    "metrics, details = compare_policies(generated_policy, ground_truth)\n",
    "\n",
    "# Save detailed comparison\n",
    "with open('comparison_results.json', 'w') as f:\n",
    "    json.dump({\n",
    "        'metrics': metrics,\n",
    "        'details': details\n",
    "    }, f, indent=2)\n",
    "\n",
    "print(\"✓ Comparison complete\")\n",
    "print(\"✓ Detailed comparison saved to: comparison_results.json\")"
   ]
  },
  {
   "cell_type": "markdown",
   "metadata": {},
   "source": [
    "## Results Summary\n",
    "\n",
    "Display the key metrics from our comparison."
   ]
  },
  {
   "cell_type": "code",
   "execution_count": 9,
   "metadata": {},
   "outputs": [
    {
     "name": "stdout",
     "output_type": "stream",
     "text": [
      "================================================================================\n",
      "EXPERIMENT RESULTS\n",
      "================================================================================\n",
      "\n",
      "Overall Accuracy: 80.00%\n",
      "Exact Match Rate: 77.33%\n",
      "\n",
      "Total Fields (Ground Truth): 75\n",
      "Total Fields (Generated): 76\n",
      "\n",
      "Exact Matches: 58\n",
      "Close Matches: 2\n",
      "Mismatches: 11\n",
      "Missing Fields: 4\n",
      "Extra Fields: 5\n",
      "\n",
      "Sample Mismatches (first 5):\n",
      "  • premium.property\n",
      "    Generated: 1200\n",
      "    Expected:  2200\n",
      "  • premium.professional_liability\n",
      "    Generated: 4200\n",
      "    Expected:  6500\n",
      "  • premium.workers_compensation\n",
      "    Generated: 9800\n",
      "    Expected:  7200\n",
      "  • policy_number\n",
      "    Generated: CMP-2024-778945\n",
      "    Expected:  CMP-2024-778921\n",
      "  • policy_type\n",
      "    Generated: Business Owners Policy (BOP) with Professional Liability\n",
      "    Expected:  Fitness Center Package Policy\n",
      "\n"
     ]
    }
   ],
   "source": [
    "print(\"=\" * 80)\n",
    "print(\"EXPERIMENT RESULTS\")\n",
    "print(\"=\" * 80)\n",
    "print()\n",
    "print(f\"Overall Accuracy: {metrics['accuracy']:.2%}\")\n",
    "print(f\"Exact Match Rate: {metrics['exact_match_rate']:.2%}\")\n",
    "print()\n",
    "print(f\"Total Fields (Ground Truth): {metrics['total_fields_in_ground_truth']}\")\n",
    "print(f\"Total Fields (Generated): {metrics['total_fields_in_generated']}\")\n",
    "print()\n",
    "print(f\"Exact Matches: {metrics['exact_matches']}\")\n",
    "print(f\"Close Matches: {metrics['close_matches']}\")\n",
    "print(f\"Mismatches: {metrics['mismatches']}\")\n",
    "print(f\"Missing Fields: {metrics['missing_fields']}\")\n",
    "print(f\"Extra Fields: {metrics['extra_fields']}\")\n",
    "print()\n",
    "\n",
    "# Show sample mismatches\n",
    "if details['mismatches']:\n",
    "    print(\"Sample Mismatches (first 5):\")\n",
    "    for mismatch in details['mismatches'][:5]:\n",
    "        print(f\"  • {mismatch['field']}\")\n",
    "        print(f\"    Generated: {mismatch['generated']}\")\n",
    "        print(f\"    Expected:  {mismatch['ground_truth']}\")\n",
    "    print()"
   ]
  },
  {
   "cell_type": "markdown",
   "metadata": {},
   "source": [
    "## Visualization: Results Breakdown\n",
    "\n",
    "Create visualizations to better understand the model's performance."
   ]
  },
  {
   "cell_type": "code",
   "execution_count": 10,
   "metadata": {},
   "outputs": [
    {
     "data": {
      "image/png": "[encoded data removed]",
      "text/plain": [
       "<Figure size 1500x600 with 2 Axes>"
      ]
     },
     "metadata": {},
     "output_type": "display_data"
    },
    {
     "name": "stdout",
     "output_type": "stream",
     "text": [
      "✓ Visualization saved to: experiment_results.png\n"
     ]
    }
   ],
   "source": [
    "# Create a DataFrame for plotting\n",
    "results_data = {\n",
    "    'Category': ['Exact Matches', 'Close Matches', 'Mismatches', 'Missing', 'Extra'],\n",
    "    'Count': [\n",
    "        metrics['exact_matches'],\n",
    "        metrics['close_matches'],\n",
    "        metrics['mismatches'],\n",
    "        metrics['missing_fields'],\n",
    "        metrics['extra_fields']\n",
    "    ]\n",
    "}\n",
    "df_results = pd.DataFrame(results_data)\n",
    "\n",
    "# Create two subplots\n",
    "fig, (ax1, ax2) = plt.subplots(1, 2, figsize=(15, 6))\n",
    "\n",
    "# Bar chart\n",
    "colors = ['#2ecc71', '#27ae60', '#e74c3c', '#e67e22', '#95a5a6']\n",
    "bars = ax1.bar(df_results['Category'], df_results['Count'], color=colors)\n",
    "ax1.set_xlabel('Category', fontsize=12)\n",
    "ax1.set_ylabel('Number of Fields', fontsize=12)\n",
    "ax1.set_title('Field Comparison Breakdown', fontsize=14, fontweight='bold')\n",
    "ax1.tick_params(axis='x', rotation=45)\n",
    "\n",
    "# Add value labels on bars\n",
    "for bar in bars:\n",
    "    height = bar.get_height()\n",
    "    ax1.text(bar.get_x() + bar.get_width()/2., height,\n",
    "            f'{int(height)}',\n",
    "            ha='center', va='bottom', fontsize=10)\n",
    "\n",
    "# Pie chart for accuracy\n",
    "accuracy_data = {\n",
    "    'Correct\\n(Exact + Close)': metrics['exact_matches'] + metrics['close_matches'],\n",
    "    'Incorrect': metrics['mismatches'] + metrics['missing_fields']\n",
    "}\n",
    "colors_pie = ['#2ecc71', '#e74c3c']\n",
    "ax2.pie(accuracy_data.values(), labels=accuracy_data.keys(), autopct='%1.1f%%',\n",
    "       colors=colors_pie, startangle=90, textprops={'fontsize': 12})\n",
    "ax2.set_title(f'Overall Accuracy: {metrics[\"accuracy\"]:.1%}', fontsize=14, fontweight='bold')\n",
    "\n",
    "plt.tight_layout()\n",
    "plt.savefig('experiment_results.png', dpi=150, bbox_inches='tight')\n",
    "plt.show()\n",
    "\n",
    "print(\"✓ Visualization saved to: experiment_results.png\")"
   ]
  },
  {
   "cell_type": "markdown",
   "metadata": {},
   "source": [
    "## Analysis: Detailed Mismatch Examination\n",
    "\n",
    "Let's examine the mismatches more closely to understand where the model struggles."
   ]
  },
  {
   "cell_type": "code",
   "execution_count": 11,
   "metadata": {},
   "outputs": [
    {
     "name": "stdout",
     "output_type": "stream",
     "text": [
      "Top 10 Mismatches:\n",
      "                                                  field                                                                                                                                                                                          generated                                                                                                                                                                                                           ground_truth\n",
      "                                       premium.property                                                                                                                                                                                               1200                                                                                                                                                                                                                   2200\n",
      "                         premium.professional_liability                                                                                                                                                                                               4200                                                                                                                                                                                                                   6500\n",
      "                           premium.workers_compensation                                                                                                                                                                                               9800                                                                                                                                                                                                                   7200\n",
      "                                          policy_number                                                                                                                                                                                    CMP-2024-778945                                                                                                                                                                                                        CMP-2024-778921\n",
      "                                            policy_type                                                                                                                                           Business Owners Policy (BOP) with Professional Liability                                                                                                                                                                                          Fitness Center Package Policy\n",
      "             coverages.commercial_auto.vehicle_schedule                                                                                     [{'year': 2022, 'make': 'Ford', 'model': 'Transit', 'vin': 'NM0LS7E76N1567890', 'use': 'Equipment transport'}]                                                                                                         [{'year': 2022, 'make': 'Ford', 'model': 'Transit', 'vin': 'NM0LS7E7XN1456789', 'use': 'Equipment transport'}]\n",
      "           underwriting_factors.loss_ratio_past_5_years                                                                                                                                                                                               0.25                                                                                                                                                                                                                   0.32\n",
      "coverages.workers_compensation.estimated_annual_premium                                                                                                                                                                                               9800                                                                                                                                                                                                                   7200\n",
      "                                           endorsements ['Abuse and Molestation Coverage', 'Personal Trainer Professional Liability', 'Assault and Battery Coverage', 'Participant Legal Liability', 'AED Coverage', 'Hired and Non-Owned Auto Liability'] ['Abuse and Molestation Liability', 'Assault and Battery Coverage', 'Personal Training Professional Liability', 'Participant Legal Liability', 'Hired and Non-Owned Auto Liability', 'Equipment Breakdown ($100,000)']\n",
      "                                premium.commercial_auto                                                                                                                                                                                               2400                                                                                                                                                                                                                   1800\n",
      "\n",
      "\n",
      "Missing Fields (not generated by model):\n",
      "                                                       field                                                               ground_truth\n",
      " coverages.general_liability.abuse_and_molestation.aggregate                                                                    1000000\n",
      "     coverages.general_liability.abuse_and_molestation.limit                                                                    1000000\n",
      "      coverages.professional_liability.covered_professionals ['Personal trainers', 'Group fitness instructors', 'Nutrition counselors']\n",
      "coverages.general_liability.abuse_and_molestation.deductible                                                                       2500\n",
      "\n",
      "\n",
      "Extra Fields (generated but not in ground truth):\n",
      "                                                              field                                                                     generated\n",
      "                coverages.property.protective_safeguards.fire_alarm                                                                          True\n",
      "         coverages.general_liability.abuse_and_molestation_coverage                                                                       1000000\n",
      "                  coverages.professional_liability.covered_services ['Personal training services', 'Fitness instruction', 'Nutrition counseling']\n",
      "coverages.property.protective_safeguards.automatic_sprinkler_system                                                                          True\n",
      "                 coverages.commercial_auto.hired_and_non_owned_auto                                                                          True\n"
     ]
    }
   ],
   "source": [
    "# Create DataFrames for detailed analysis\n",
    "if details['mismatches']:\n",
    "    df_mismatches = pd.DataFrame(details['mismatches'])\n",
    "    print(\"Top 10 Mismatches:\")\n",
    "    print(df_mismatches.head(10).to_string(index=False))\n",
    "    print()\n",
    "else:\n",
    "    print(\"No mismatches found!\")\n",
    "\n",
    "if details['missing_in_generated']:\n",
    "    df_missing = pd.DataFrame(details['missing_in_generated'])\n",
    "    print(\"\\nMissing Fields (not generated by model):\")\n",
    "    print(df_missing.head(10).to_string(index=False))\n",
    "    print()\n",
    "else:\n",
    "    print(\"\\nNo missing fields!\")\n",
    "\n",
    "if details['extra_in_generated']:\n",
    "    df_extra = pd.DataFrame(details['extra_in_generated'])\n",
    "    print(\"\\nExtra Fields (generated but not in ground truth):\")\n",
    "    print(df_extra.head(10).to_string(index=False))\n",
    "else:\n",
    "    print(\"\\nNo extra fields!\")"
   ]
  },
  {
   "cell_type": "markdown",
   "metadata": {},
   "source": [
    "## Conclusion\n",
    "\n",
    "This experiment demonstrates the effectiveness of few-shot learning for insurance policy prediction. The results can help inform:\n",
    "\n",
    "1. **Model Performance**: How well does the LLM understand insurance underwriting patterns?\n",
    "2. **Field Accuracy**: Which policy fields are predicted most/least accurately?\n",
    "3. **Business Viability**: Is this approach suitable for production use?\n",
    "4. **Improvement Opportunities**: Where should we focus optimization efforts?\n",
    "\n",
    "### Next Steps\n",
    "- Analyze which types of fields (premiums, coverages, limits) are most accurate\n",
    "- Test with different numbers of training examples\n",
    "- Try chain-of-thought prompting for better reasoning\n",
    "- Compare different LLM models\n",
    "- Implement validation rules for generated policies"
   ]
  }
 ],
 "metadata": {
  "kernelspec": {
   "display_name": "Python 3 (ipykernel)",
   "language": "python",
   "name": "python3"
  },
  "language_info": {
   "codemirror_mode": {
    "name": "ipython",
    "version": 3
   },
   "file_extension": ".py",
   "mimetype": "text/x-python",
   "name": "python",
   "nbconvert_exporter": "python",
   "pygments_lexer": "ipython3",
   "version": "3.11.13"
  }
 },
 "nbformat": 4,
 "nbformat_minor": 4
}